{
  "nbformat": 4,
  "nbformat_minor": 0,
  "metadata": {
    "colab": {
      "provenance": []
    },
    "kernelspec": {
      "name": "python3",
      "display_name": "Python 3"
    },
    "language_info": {
      "name": "python"
    }
  },
  "cells": [
    {
      "cell_type": "code",
      "source": [
        "def sum10(lst):\n",
        "    count=0\n",
        "    pairs=[]\n",
        "\n",
        "    for i in range(len(lst)):\n",
        "        for j in range(len(lst)):\n",
        "            if lst[i]+lst[j]==10:\n",
        "                pairs.append((lst[i],lst[j]))\n",
        "                count+=1\n",
        "    return pairs,count\n",
        "\n",
        "\n",
        "lst=[2,7,4,1,3,6]\n",
        "pairs,count=sum10(lst)\n",
        "print(\"the elements are:\",pairs)\n",
        "print(f\"total count is:{count}\")"
      ],
      "metadata": {
        "colab": {
          "base_uri": "https://localhost:8080/"
        },
        "id": "xV774KUmGiSh",
        "outputId": "d431840e-0714-4eef-a295-87d202c402fb"
      },
      "execution_count": 7,
      "outputs": [
        {
          "output_type": "stream",
          "name": "stdout",
          "text": [
            "the elements are: [(7, 3), (4, 6), (3, 7), (6, 4)]\n",
            "total count is:4\n"
          ]
        }
      ]
    },
    {
      "cell_type": "markdown",
      "source": [
        "question2"
      ],
      "metadata": {
        "id": "wHmlLPuHHMbF"
      }
    },
    {
      "cell_type": "code",
      "source": [
        "def list_input():\n",
        "    lst=input(\"enter the list seperating the elements by spaces\")\n",
        "    entered_list=list(map(int, lst.split()))\n",
        "    return entered_list\n",
        "\n",
        "def calc_range(entered_list):\n",
        "    if len(entered_list)<3:\n",
        "        raise ValueError(\"oh no! the list is of less than 3 elements\")\n",
        "    else:\n",
        "        max_ele=max(entered_list)\n",
        "        min_ele=min(entered_list)\n",
        "        range_is=max_ele-min_ele\n",
        "    return range_is\n",
        "\n",
        "\n",
        "yourList=list_input()\n",
        "rangecalc=calc_range(yourList)\n",
        "print(\"entered list is\",yourList)\n",
        "print(\"the range of your list is\",rangecalc)"
      ],
      "metadata": {
        "colab": {
          "base_uri": "https://localhost:8080/"
        },
        "id": "r7D4R2UfHLQF",
        "outputId": "1e202669-6876-4abc-dad8-4ca0db38649b"
      },
      "execution_count": 6,
      "outputs": [
        {
          "output_type": "stream",
          "name": "stdout",
          "text": [
            "enter the list seperating the elements by spaces2 4 6 8\n",
            "entered list is [2, 4, 6, 8]\n",
            "the range of your list is 6\n"
          ]
        }
      ]
    },
    {
      "cell_type": "markdown",
      "source": [
        "question 3\n"
      ],
      "metadata": {
        "id": "NEiC3h21U3aI"
      }
    },
    {
      "cell_type": "code",
      "source": [
        "import numpy as np\n",
        "\n",
        "def matrix_power(matrix, power):\n",
        "    rows = len(matrix)\n",
        "    for row in matrix:\n",
        "        if len(row) != rows:\n",
        "            raise ValueError(\"The input matrix must be square.\")\n",
        "\n",
        "\n",
        "    if power < 1:\n",
        "        raise ValueError(\"The power must be a positive integer.\")\n",
        "\n",
        "    np_matrix = np.array(matrix)\n",
        "    result = np.linalg.matrix_power(np_matrix, power)\n",
        "    return result.tolist()\n",
        "\n",
        "def get_matrix_input():\n",
        "    size = int(input(\"Enter the size of the square matrix: \"))\n",
        "    print(\"Enter the matrix row by row, with elements separated by spaces:\")\n",
        "    matrix = []\n",
        "    for _ in range(size):\n",
        "        row = list(map(float, input().split()))\n",
        "        matrix.append(row)\n",
        "    return matrix\n",
        "\n",
        "def get_positive_integer():\n",
        "    value = int(input(\"Enter a positive integer for the power: \"))\n",
        "    if value < 1:\n",
        "        raise ValueError(\"The value must be a positive integer.\")\n",
        "    return value\n",
        "\n",
        "\n",
        "if __name__ == \"__main__\":\n",
        "    try:\n",
        "        matrix = get_matrix_input()\n",
        "        power = get_positive_integer()\n",
        "        result = matrix_power(matrix, power)\n",
        "        print(\"The input matrix is:\")\n",
        "        for row in matrix:\n",
        "            print(row)\n",
        "        print(f\"The matrix raised to the power {power} is:\")\n",
        "        for row in result:\n",
        "            print(row)\n",
        "    except ValueError as e:\n",
        "        print(\"Error:\", e)\n",
        "\n"
      ],
      "metadata": {
        "colab": {
          "base_uri": "https://localhost:8080/"
        },
        "id": "CBmj0CtjVIZE",
        "outputId": "92b7a1ce-c92c-4cd4-afdf-fe241595a9da"
      },
      "execution_count": 8,
      "outputs": [
        {
          "output_type": "stream",
          "name": "stdout",
          "text": [
            "Enter the size of the square matrix: 2\n",
            "Enter the matrix row by row, with elements separated by spaces:\n",
            "1 2\n",
            "3 4\n",
            "Enter a positive integer for the power: 2\n",
            "The input matrix is:\n",
            "[1.0, 2.0]\n",
            "[3.0, 4.0]\n",
            "The matrix raised to the power 2 is:\n",
            "[7.0, 10.0]\n",
            "[15.0, 22.0]\n"
          ]
        }
      ]
    },
    {
      "cell_type": "markdown",
      "source": [
        "qn 4"
      ],
      "metadata": {
        "id": "NptNuD2EVRgb"
      }
    },
    {
      "cell_type": "code",
      "source": [
        "def input_string():\n",
        "    string = input(\"enter the string\")\n",
        "    return list(string)\n",
        "\n",
        "def occurences(a):\n",
        "    ch_count = {}\n",
        "    for i in range(len(a)):\n",
        "        if a[i] in ch_count:\n",
        "            ch_count[a[i]] = ch_count[a[i]] + 1\n",
        "        else:\n",
        "            ch_count[a[i]] = 1\n",
        "\n",
        "    return ch_count\n",
        "\n",
        "def max_occurence(ch_count):\n",
        "    max_char = max(ch_count, key=ch_count.get)\n",
        "    return max_char, ch_count[max_char]\n",
        "\n",
        "a = input_string()\n",
        "print(a)\n",
        "occ = occurences(a)\n",
        "print(\"the occurence of each character is\", occ)\n",
        "max_char, max_count = max_occurence(occ)\n",
        "print(f\"The character with the highest occurrence is '{max_char}' with {max_count} occurrences.\")\n"
      ],
      "metadata": {
        "colab": {
          "base_uri": "https://localhost:8080/"
        },
        "id": "RioXoNY-VTsw",
        "outputId": "4ad3482c-f222-43c9-80dc-c2eb5a76f975"
      },
      "execution_count": 9,
      "outputs": [
        {
          "output_type": "stream",
          "name": "stdout",
          "text": [
            "enter the stringhippopotamus\n",
            "['h', 'i', 'p', 'p', 'o', 'p', 'o', 't', 'a', 'm', 'u', 's']\n",
            "the occurence of each character is {'h': 1, 'i': 1, 'p': 3, 'o': 2, 't': 1, 'a': 1, 'm': 1, 'u': 1, 's': 1}\n",
            "The character with the highest occurrence is 'p' with 3 occurrences.\n"
          ]
        }
      ]
    }
  ]
}