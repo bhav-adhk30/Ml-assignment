{
  "nbformat": 4,
  "nbformat_minor": 0,
  "metadata": {
    "colab": {
      "provenance": []
    },
    "kernelspec": {
      "name": "python3",
      "display_name": "Python 3"
    },
    "language_info": {
      "name": "python"
    }
  },
  "cells": [
    {
      "cell_type": "code",
      "execution_count": 9,
      "metadata": {
        "colab": {
          "base_uri": "https://localhost:8080/"
        },
        "id": "EZPadLAusaqD",
        "outputId": "fcb96b01-f1e4-4e93-b5fb-0ff8dc5a5dd0"
      },
      "outputs": [
        {
          "output_type": "stream",
          "name": "stdout",
          "text": [
            "Matrix A (Feature Matrix):\n",
            " [[20  6  2]\n",
            " [16  3  6]\n",
            " [27  6  2]\n",
            " [19  1  2]\n",
            " [24  4  2]\n",
            " [22  1  5]\n",
            " [15  4  2]\n",
            " [18  4  2]\n",
            " [21  1  4]\n",
            " [16  2  4]]\n",
            "\n",
            "Matrix C (Payment Vector):\n",
            " [386 289 393 110 280 167 271 274 148 198]\n",
            "Dimensionality of the vector space: 3\n",
            "Number of vectors in the vector space: 10\n",
            "Rank of Matrix A: 3\n",
            "Pseudo-Inverse of A:\n",
            " [[-0.01008596 -0.03124505  0.01013951  0.0290728   0.0182907   0.01161794\n",
            "  -0.00771348  0.00095458  0.01743623 -0.00542016]\n",
            " [ 0.09059668  0.07263726  0.03172933 -0.09071908 -0.01893196 -0.06926996\n",
            "   0.05675464  0.03152577 -0.07641966  0.00357352]\n",
            " [ 0.00299878  0.15874243 -0.05795468 -0.06609024 -0.06295043  0.03348017\n",
            "   0.01541831 -0.01070461  0.00029003  0.05938755]]\n",
            "Cost of each product (X):\n",
            "Product 1: Rs. 1.00\n",
            "Product 2: Rs. 55.00\n",
            "Product 3: Rs. 18.00\n"
          ]
        }
      ],
      "source": [
        "import pandas as pd\n",
        "import numpy as np\n",
        "\n",
        "file_path = \"Lab Session Data.xlsx\"\n",
        "sheet_name = \"Purchase data\"\n",
        "data = pd.read_excel(file_path, sheet_name=sheet_name)\n",
        "\n",
        "A = data.iloc[:, 1:4].apply(pd.to_numeric, errors='coerce').values\n",
        "\n",
        "\n",
        "C = data.iloc[:, 4].apply(pd.to_numeric, errors='coerce').values\n",
        "\n",
        "A = np.nan_to_num(A)\n",
        "C = np.nan_to_num(C)\n",
        "\n",
        "\n",
        "print(\"Matrix A (Feature Matrix):\\n\", A)\n",
        "print(\"\\nMatrix C (Payment Vector):\\n\", C)\n",
        "\n",
        "\n",
        "vector_space_dimensionality = A.shape[1]\n",
        "print(f\"Dimensionality of the vector space: {vector_space_dimensionality}\")\n",
        "\n",
        "\n",
        "num_vectors = A.shape[0]\n",
        "print(f\"Number of vectors in the vector space: {num_vectors}\")\n",
        "\n",
        "\n",
        "rank_of_A = np.linalg.matrix_rank(A)\n",
        "print(f\"Rank of Matrix A: {rank_of_A}\")\n",
        "\n",
        "\n",
        "A_pseudo_inverse = np.linalg.pinv(A)\n",
        "print(\"Pseudo-Inverse of A:\\n\", A_pseudo_inverse)\n",
        "\n",
        "\n",
        "X = A_pseudo_inverse @ C\n",
        "print(\"Cost of each product (X):\")\n",
        "for i, cost in enumerate(X, start=1):\n",
        "    print(f\"Product {i}: Rs. {cost:.2f}\")\n",
        "\n"
      ]
    },
    {
      "cell_type": "code",
      "source": [
        "import pandas as pd\n",
        "import numpy as np\n",
        "\n",
        "# Load the data from the \"Purchase data\" worksheet\n",
        "file_path = \"Lab Session Data.xlsx\"\n",
        "sheet_name = \"Purchase data\"\n",
        "data = pd.read_excel(file_path, sheet_name=sheet_name)\n",
        "\n",
        "# Extract A (Feature Matrix) - Selecting only product quantity columns (Candies, Mangoes, Milk Packets)\n",
        "A = data.iloc[:, 1:4].apply(pd.to_numeric, errors='coerce').values\n",
        "\n",
        "# Extract C (Target Vector) - Payment (Rs.)\n",
        "C = data.iloc[:, 4].apply(pd.to_numeric, errors='coerce').values\n",
        "\n",
        "# Handle missing values\n",
        "A = np.nan_to_num(A)\n",
        "C = np.nan_to_num(C)\n",
        "\n",
        "# Display extracted matrices\n",
        "print(\"Matrix A (Feature Matrix):\\n\", A)\n",
        "print(\"\\nMatrix C (Payment Vector):\\n\", C)\n",
        "\n",
        "# Compute model vector X for predicting product costs using X = A^+ * C\n",
        "X = A_pseudo_inverse @ C\n",
        "print(\"Model Vector X (Predicted Cost per Unit of Each Product):\")\n",
        "for i, cost in enumerate(X, start=1):\n",
        "    print(f\"Product {i}: Rs. {cost:.2f}\")"
      ],
      "metadata": {
        "colab": {
          "base_uri": "https://localhost:8080/"
        },
        "id": "wE7fRmqK1YZB",
        "outputId": "dec9f8b6-4712-459f-ac9f-eaac1f39f643"
      },
      "execution_count": 10,
      "outputs": [
        {
          "output_type": "stream",
          "name": "stdout",
          "text": [
            "Matrix A (Feature Matrix):\n",
            " [[20  6  2]\n",
            " [16  3  6]\n",
            " [27  6  2]\n",
            " [19  1  2]\n",
            " [24  4  2]\n",
            " [22  1  5]\n",
            " [15  4  2]\n",
            " [18  4  2]\n",
            " [21  1  4]\n",
            " [16  2  4]]\n",
            "\n",
            "Matrix C (Payment Vector):\n",
            " [386 289 393 110 280 167 271 274 148 198]\n",
            "Model Vector X (Predicted Cost per Unit of Each Product):\n",
            "Product 1: Rs. 1.00\n",
            "Product 2: Rs. 55.00\n",
            "Product 3: Rs. 18.00\n"
          ]
        }
      ]
    },
    {
      "cell_type": "code",
      "source": [
        "import pandas as pd\n",
        "import numpy as np\n",
        "\n",
        "# Load the data from the \"Purchase data\" worksheet\n",
        "file_path = \"Lab Session Data.xlsx\"\n",
        "sheet_name = \"Purchase data\"\n",
        "data = pd.read_excel(file_path, sheet_name=sheet_name)\n",
        "\n",
        "# Extract A (Feature Matrix) - Selecting only product quantity columns (Candies, Mangoes, Milk Packets)\n",
        "A = data.iloc[:, 1:4].apply(pd.to_numeric, errors='coerce').values\n",
        "\n",
        "# Extract C (Target Vector) - Payment (Rs.)\n",
        "C = data.iloc[:, 4].apply(pd.to_numeric, errors='coerce').values\n",
        "\n",
        "# Handle missing values\n",
        "A = np.nan_to_num(A)\n",
        "C = np.nan_to_num(C)\n",
        "\n",
        "# Categorize customers as RICH or POOR based on Payment\n",
        "labels = np.where(C > 200, \"RICH\", \"POOR\")\n",
        "data[\"Category\"] = labels\n",
        "\n",
        "# Simple rule-based classification\n",
        "print(\"Updated Data with Category:\\n\", data[[\"Customer\", \"Category\"]])"
      ],
      "metadata": {
        "colab": {
          "base_uri": "https://localhost:8080/"
        },
        "id": "91oss1AU5BJ6",
        "outputId": "179f7105-6f78-47b4-83af-36a595be3197"
      },
      "execution_count": 13,
      "outputs": [
        {
          "output_type": "stream",
          "name": "stdout",
          "text": [
            "Updated Data with Category:\n",
            "   Customer Category\n",
            "0      C_1     RICH\n",
            "1      C_2     RICH\n",
            "2      C_3     RICH\n",
            "3      C_4     POOR\n",
            "4      C_5     RICH\n",
            "5      C_6     POOR\n",
            "6      C_7     RICH\n",
            "7      C_8     RICH\n",
            "8      C_9     POOR\n",
            "9     C_10     POOR\n"
          ]
        }
      ]
    },
    {
      "cell_type": "code",
      "source": [],
      "metadata": {
        "id": "PgkrGhXQ7ux4"
      },
      "execution_count": 14,
      "outputs": []
    }
  ]
}