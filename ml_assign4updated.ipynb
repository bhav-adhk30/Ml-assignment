{
  "nbformat": 4,
  "nbformat_minor": 0,
  "metadata": {
    "colab": {
      "provenance": []
    },
    "kernelspec": {
      "name": "python3",
      "display_name": "Python 3"
    },
    "language_info": {
      "name": "python"
    }
  },
  "cells": [
    {
      "cell_type": "markdown",
      "source": [
        "A1"
      ],
      "metadata": {
        "id": "W_nYUJeM24MU"
      }
    },
    {
      "cell_type": "code",
      "source": [
        "import pandas as pd\n",
        "import numpy as np\n",
        "\n",
        "def load_dataset(file_path, sheet_name):\n",
        "    xls = pd.ExcelFile(file_path)\n",
        "    df = pd.read_excel(xls, sheet_name=sheet_name)\n",
        "    return df\n",
        "\n",
        "def preprocess_data(df):\n",
        "    df['Price'] = pd.to_numeric(df['Price'], errors='coerce')\n",
        "    df['Open'] = pd.to_numeric(df['Open'], errors='coerce')\n",
        "    df['High'] = pd.to_numeric(df['High'], errors='coerce')\n",
        "    df['Low'] = pd.to_numeric(df['Low'], errors='coerce')\n",
        "\n",
        "\n",
        "    median_price = df['Price'].median()\n",
        "    df['Class'] = df['Price'].apply(lambda x: 'High' if x >= median_price else 'Low')\n",
        "\n",
        "    return df\n",
        "\n",
        "def compute_class_statistics(df, features):\n",
        "    \"\"\"Compute centroids, spreads, and Euclidean distance between two classes.\"\"\"\n",
        "    class_high = df[df['Class'] == 'High'][features]\n",
        "    class_low = df[df['Class'] == 'Low'][features]\n",
        "\n",
        "\n",
        "    centroid_high = class_high.mean()\n",
        "    centroid_low = class_low.mean()\n",
        "\n",
        "\n",
        "    spread_high = class_high.std()\n",
        "    spread_low = class_low.std()\n",
        "\n",
        "    euclidean_distance = np.linalg.norm(centroid_high - centroid_low)\n",
        "\n",
        "    return centroid_high, spread_high, centroid_low, spread_low, euclidean_distance\n",
        "\n",
        "def main():\n",
        "\n",
        "    file_path = \"Lab Session Data.xlsx\"\n",
        "    sheet_name = \"IRCTC Stock Price\"\n",
        "\n",
        "\n",
        "    df = load_dataset(file_path, sheet_name)\n",
        "    df = preprocess_data(df)\n",
        "\n",
        "    features = ['Price', 'Open', 'High', 'Low']\n",
        "\n",
        "    centroid_high, spread_high, centroid_low, spread_low, euclidean_distance = compute_class_statistics(df, features)\n",
        "\n",
        "    results_df = pd.DataFrame({\n",
        "        \"Centroid High\": centroid_high,\n",
        "        \"Centroid Low\": centroid_low,\n",
        "        \"Spread High\": spread_high,\n",
        "        \"Spread Low\": spread_low\n",
        "    })\n",
        "\n",
        "    print(results_df)\n",
        "    print(f\"Euclidean Distance Between Centroids: {euclidean_distance:.2f}\")\n",
        "\n",
        "\n",
        "if __name__ == \"__main__\":\n",
        "    main()\n"
      ],
      "metadata": {
        "colab": {
          "base_uri": "https://localhost:8080/"
        },
        "id": "FaDTNBDJ-BQG",
        "outputId": "7949c52f-dcdd-4c66-be07-b3bd6b1a081c"
      },
      "execution_count": 5,
      "outputs": [
        {
          "output_type": "stream",
          "name": "stdout",
          "text": [
            "       Centroid High  Centroid Low  Spread High  Spread Low\n",
            "Price      1754.2148   1365.551210   201.655646   31.218026\n",
            "Open       1751.1204   1369.277016   208.041745   35.063033\n",
            "High       1786.2768   1384.370161   205.804404   37.773195\n",
            "Low        1722.7496   1353.252016   200.375322   29.357423\n",
            "Euclidean Distance Between Centroids: 771.31\n"
          ]
        }
      ]
    },
    {
      "cell_type": "markdown",
      "source": [
        "A2"
      ],
      "metadata": {
        "id": "Qflc94L22_dn"
      }
    },
    {
      "cell_type": "code",
      "source": [
        "import pandas as pd\n",
        "import numpy as np\n",
        "import matplotlib.pyplot as plt\n",
        "\n",
        "def load_dataset(file_path, sheet_name):\n",
        "    xls = pd.ExcelFile(file_path)\n",
        "    df = pd.read_excel(xls, sheet_name=sheet_name)\n",
        "    return df\n",
        "\n",
        "def preprocess_data(df):\n",
        "    df['Price'] = pd.to_numeric(df['Price'], errors='coerce')\n",
        "    df['Open'] = pd.to_numeric(df['Open'], errors='coerce')\n",
        "    df['High'] = pd.to_numeric(df['High'], errors='coerce')\n",
        "    df['Low'] = pd.to_numeric(df['Low'], errors='coerce')\n",
        "\n",
        "\n",
        "    median_price = df['Price'].median()\n",
        "    df['Class'] = df['Price'].apply(lambda x: 'High' if x >= median_price else 'Low')\n",
        "\n",
        "    return df\n",
        "\n",
        "def compute_class_statistics(df, features):\n",
        "    class_high = df[df['Class'] == 'High'][features]\n",
        "    class_low = df[df['Class'] == 'Low'][features]\n",
        "\n",
        "\n",
        "    centroid_high = class_high.mean()\n",
        "    centroid_low = class_low.mean()\n",
        "\n",
        "    spread_high = class_high.std()\n",
        "    spread_low = class_low.std()\n",
        "\n",
        "    euclidean_distance = np.linalg.norm(centroid_high - centroid_low)\n",
        "\n",
        "    return centroid_high, spread_high, centroid_low, spread_low, euclidean_distance\n",
        "\n",
        "def analyze_feature_distribution(df, feature):\n",
        "    data = df[feature].dropna()\n",
        "\n",
        "\n",
        "    mean_value = np.mean(data)\n",
        "    variance_value = np.var(data)\n",
        "\n",
        "    plt.figure(figsize=(8, 5))\n",
        "    plt.hist(data, bins=20, edgecolor='black', alpha=0.7)\n",
        "    plt.title(f'Histogram of {feature}')\n",
        "    plt.xlabel(feature)\n",
        "    plt.ylabel('Frequency')\n",
        "    plt.grid(axis='y', linestyle='--', alpha=0.7)\n",
        "    plt.show()\n",
        "\n",
        "    return mean_value, variance_value\n",
        "\n",
        "def main():\n",
        "\n",
        "    file_path = \"Lab Session Data.xlsx\"\n",
        "    sheet_name = \"IRCTC Stock Price\"\n",
        "\n",
        "    df = load_dataset(file_path, sheet_name)\n",
        "    df = preprocess_data(df)\n",
        "\n",
        "\n",
        "    features = ['Price', 'Open', 'High', 'Low']\n",
        "\n",
        "\n",
        "    centroid_high, spread_high, centroid_low, spread_low, euclidean_distance = compute_class_statistics(df, features)\n",
        "\n",
        "    results_df = pd.DataFrame({\n",
        "        \"Centroid High\": centroid_high,\n",
        "        \"Centroid Low\": centroid_low,\n",
        "        \"Spread High\": spread_high,\n",
        "        \"Spread Low\": spread_low\n",
        "    })\n",
        "\n",
        "    print(results_df)\n",
        "    print(f\"Euclidean Distance Between Centroids: {euclidean_distance:.2f}\")\n",
        "\n",
        "\n",
        "    mean_price, var_price = analyze_feature_distribution(df, 'Price')\n",
        "    print(f\"Mean of Price: {mean_price:.2f}\")\n",
        "    print(f\"Variance of Price: {var_price:.2f}\")\n",
        "\n",
        "\n",
        "if __name__ == \"__main__\":\n",
        "    main()\n"
      ],
      "metadata": {
        "colab": {
          "base_uri": "https://localhost:8080/",
          "height": 618
        },
        "id": "8RDPY6ZglIpH",
        "outputId": "a136f952-2b70-4f81-c98c-3bfae44c068e"
      },
      "execution_count": 6,
      "outputs": [
        {
          "output_type": "stream",
          "name": "stdout",
          "text": [
            "       Centroid High  Centroid Low  Spread High  Spread Low\n",
            "Price      1754.2148   1365.551210   201.655646   31.218026\n",
            "Open       1751.1204   1369.277016   208.041745   35.063033\n",
            "High       1786.2768   1384.370161   205.804404   37.773195\n",
            "Low        1722.7496   1353.252016   200.375322   29.357423\n",
            "Euclidean Distance Between Centroids: 771.31\n"
          ]
        },
        {
          "output_type": "display_data",
          "data": {
            "text/plain": [
              "<Figure size 800x500 with 1 Axes>"
            ],
            "image/png": "[encoded data removed]"
          },
          "metadata": {}
        },
        {
          "output_type": "stream",
          "name": "stdout",
          "text": [
            "Mean of Price: 1560.66\n",
            "Variance of Price: 58496.49\n"
          ]
        }
      ]
    },
    {
      "cell_type": "markdown",
      "source": [
        "A3"
      ],
      "metadata": {
        "id": "VlTqhSa1xOyS"
      }
    },
    {
      "cell_type": "code",
      "source": [
        "from scipy.spatial.distance import minkowski\n",
        "import matplotlib.pyplot as plt\n",
        "import pandas as pd\n",
        "import numpy as np\n",
        "\n",
        "file_name = \"Lab Session Data.xlsx\"\n",
        "xls = pd.ExcelFile(file_name)\n",
        "\n",
        "\n",
        "df_irctc = pd.read_excel(xls, sheet_name=\"IRCTC Stock Price\")\n",
        "\n",
        "feature1 = \"Price\"\n",
        "feature2 = \"Open\"\n",
        "\n",
        "\n",
        "vec1 = df_irctc[feature1].dropna().values\n",
        "vec2 = df_irctc[feature2].dropna().values\n",
        "\n",
        "\n",
        "min_length = min(len(vec1), len(vec2))\n",
        "vec1, vec2 = vec1[:min_length], vec2[:min_length]\n",
        "\n",
        "r_values = range(1, 11)\n",
        "minkowski_distances = [minkowski(vec1, vec2, r) for r in r_values]\n",
        "\n",
        "plt.figure(figsize=(8, 5))\n",
        "plt.plot(r_values, minkowski_distances, marker='o', linestyle='-', color='b')\n",
        "plt.xlabel(\"Minkowski Parameter (r)\")\n",
        "plt.ylabel(\"Minkowski Distance\")\n",
        "plt.title(f\"Minkowski Distance between {feature1} and {feature2} for r = 1 to 10\")\n",
        "plt.grid(True)\n",
        "plt.show()\n",
        "\n",
        "\n",
        "list(zip(r_values, minkowski_distances))\n"
      ],
      "metadata": {
        "colab": {
          "base_uri": "https://localhost:8080/",
          "height": 651
        },
        "id": "BDq0tn6DxPju",
        "outputId": "5004e1eb-98e6-4fb4-810f-36fb9d9cd087"
      },
      "execution_count": null,
      "outputs": [
        {
          "output_type": "display_data",
          "data": {
            "text/plain": [
              "<Figure size 800x500 with 1 Axes>"
            ],
            "image/png": "[encoded data removed]"
          },
          "metadata": {}
        },
        {
          "output_type": "execute_result",
          "data": {
            "text/plain": [
              "[(1, 5662.299999999999),\n",
              " (2, 550.3919694181593),\n",
              " (3, 301.50819390983594),\n",
              " (4, 240.94947430020423),\n",
              " (5, 217.87872469290787),\n",
              " (6, 206.86816777852732),\n",
              " (7, 200.80001504956726),\n",
              " (8, 197.1113853324539),\n",
              " (9, 194.71282145384123),\n",
              " (10, 193.07861433131603)]"
            ]
          },
          "metadata": {},
          "execution_count": 5
        }
      ]
    },
    {
      "cell_type": "markdown",
      "source": [
        "A4\n"
      ],
      "metadata": {
        "id": "mdsWlRyuxazN"
      }
    },
    {
      "cell_type": "code",
      "source": [
        "import pandas as pd\n",
        "import numpy as np\n",
        "import matplotlib.pyplot as plt\n",
        "from sklearn.model_selection import train_test_split\n",
        "\n",
        "def load_dataset(file_path, sheet_name):\n",
        "    \"\"\"Load the dataset from the given Excel sheet.\"\"\"\n",
        "    xls = pd.ExcelFile(file_path)\n",
        "    df = pd.read_excel(xls, sheet_name=sheet_name)\n",
        "    return df\n",
        "\n",
        "def preprocess_data(df):\n",
        "    \"\"\"Convert relevant columns to numeric and define classes based on median price.\"\"\"\n",
        "    df['Price'] = pd.to_numeric(df['Price'], errors='coerce')\n",
        "    df['Open'] = pd.to_numeric(df['Open'], errors='coerce')\n",
        "    median_price = df['Price'].median()\n",
        "    df['Class'] = df['Price'].apply(lambda x: 'High' if x >= median_price else 'Low')\n",
        "    return df\n",
        "\n",
        "def split_train_test(df, features, target, test_size=0.3):\n",
        "    \"\"\"Split the dataset into training and testing sets with only two classes.\"\"\"\n",
        "    df = df[df[target].isin(['High', 'Low'])]\n",
        "    X = df[features]\n",
        "    y = df[target]\n",
        "    X_train, X_test, y_train, y_test = train_test_split(X, y, test_size=test_size, random_state=42)\n",
        "    return X_train, X_test, y_train, y_test\n",
        "\n",
        "def main():\n",
        "    \"\"\"Main function to execute dataset processing and train-test split.\"\"\"\n",
        "    file_path = \"Lab Session Data.xlsx\"\n",
        "    sheet_name = \"IRCTC Stock Price\"\n",
        "    df = load_dataset(file_path, sheet_name)\n",
        "    df = preprocess_data(df)\n",
        "    features = ['Price', 'Open']\n",
        "    X_train, X_test, y_train, y_test = split_train_test(df, features, 'Class')\n",
        "    print(f\"Training set size: {X_train.shape[0]}, Test set size: {X_test.shape[0]}\")\n",
        "\n",
        "if __name__ == \"__main__\":\n",
        "    main()\n"
      ],
      "metadata": {
        "colab": {
          "base_uri": "https://localhost:8080/"
        },
        "id": "nFTJIZSPxcRf",
        "outputId": "f3405a2f-ad88-415b-ef23-2ddc82606d48"
      },
      "execution_count": 8,
      "outputs": [
        {
          "output_type": "stream",
          "name": "stdout",
          "text": [
            "Training set size: 174, Test set size: 75\n"
          ]
        }
      ]
    },
    {
      "cell_type": "markdown",
      "source": [
        "A5"
      ],
      "metadata": {
        "id": "-6UQvjxxzGig"
      }
    },
    {
      "cell_type": "code",
      "source": [
        "import pandas as pd\n",
        "import numpy as np\n",
        "from sklearn.model_selection import train_test_split\n",
        "from sklearn.neighbors import KNeighborsClassifier\n",
        "from sklearn.preprocessing import StandardScaler\n",
        "from sklearn.metrics import accuracy_score\n",
        "\n",
        "def load_dataset(file_path, sheet_name):\n",
        "    \"\"\"Load the IRCTC stock price dataset from the given sheet.\"\"\"\n",
        "    xls = pd.ExcelFile(file_path)\n",
        "    df = pd.read_excel(xls, sheet_name=sheet_name)\n",
        "    return df\n",
        "\n",
        "def preprocess_data(df):\n",
        "    \"\"\"Convert price to numeric and classify data into two classes based on median price.\"\"\"\n",
        "    df[\"Price\"] = pd.to_numeric(df[\"Price\"], errors=\"coerce\")\n",
        "    df[\"Open\"] = pd.to_numeric(df[\"Open\"], errors=\"coerce\")\n",
        "    median_price = df[\"Price\"].median()\n",
        "    df[\"Class\"] = np.where(df[\"Price\"] >= median_price, 1, 0)\n",
        "    return df.dropna()\n",
        "\n",
        "def split_data(df, features):\n",
        "    \"\"\"Split data into training and testing sets.\"\"\"\n",
        "    X = df[features]\n",
        "    y = df[\"Class\"]\n",
        "    return train_test_split(X, y, test_size=0.3, random_state=42)\n",
        "\n",
        "def train_knn_classifier(X_train, y_train, k=3):\n",
        "    \"\"\"Train a k-NN classifier with k=3.\"\"\"\n",
        "    scaler = StandardScaler()\n",
        "    X_train_scaled = scaler.fit_transform(X_train)\n",
        "    knn = KNeighborsClassifier(n_neighbors=k)\n",
        "    knn.fit(X_train_scaled, y_train)\n",
        "    return knn, scaler\n",
        "\n",
        "def evaluate_model(knn, scaler, X_test, y_test):\n",
        "    \"\"\"Evaluate the trained k-NN classifier on the test set.\"\"\"\n",
        "    X_test_scaled = scaler.transform(X_test)\n",
        "    y_pred = knn.predict(X_test_scaled)\n",
        "    accuracy = accuracy_score(y_test, y_pred)\n",
        "    return accuracy\n",
        "\n",
        "def main():\n",
        "    \"\"\"Main function to execute the k-NN classification process.\"\"\"\n",
        "    file_path = \"Lab Session Data.xlsx\"\n",
        "    sheet_name = \"IRCTC Stock Price\"\n",
        "    df = load_dataset(file_path, sheet_name)\n",
        "    df = preprocess_data(df)\n",
        "    features = [\"Price\", \"Open\"]\n",
        "    X_train, X_test, y_train, y_test = split_data(df, features)\n",
        "    knn, scaler = train_knn_classifier(X_train, y_train, k=3)\n",
        "    accuracy = evaluate_model(knn, scaler, X_test, y_test)\n",
        "    print(f\"Accuracy of k-NN Classifier (k=3): {accuracy:.2f}\")\n",
        "\n",
        "if __name__ == \"__main__\":\n",
        "    main()\n"
      ],
      "metadata": {
        "colab": {
          "base_uri": "https://localhost:8080/"
        },
        "id": "uqu_glGrzHdz",
        "outputId": "37f2c96a-1f27-4e32-c1bd-dbbdb2a6e022"
      },
      "execution_count": 11,
      "outputs": [
        {
          "output_type": "stream",
          "name": "stdout",
          "text": [
            "Accuracy of k-NN Classifier (k=3): 0.99\n"
          ]
        }
      ]
    },
    {
      "cell_type": "markdown",
      "source": [
        "A6"
      ],
      "metadata": {
        "id": "_nHxUNoH0qxB"
      }
    },
    {
      "cell_type": "code",
      "source": [
        "import pandas as pd\n",
        "import numpy as np\n",
        "from sklearn.model_selection import train_test_split\n",
        "from sklearn.neighbors import KNeighborsClassifier\n",
        "from sklearn.preprocessing import StandardScaler\n",
        "from sklearn.metrics import accuracy_score\n",
        "\n",
        "def load_dataset(file_path, sheet_name):\n",
        "    \"\"\"Load the IRCTC stock price dataset from the given sheet.\"\"\"\n",
        "    xls = pd.ExcelFile(file_path)\n",
        "    df = pd.read_excel(xls, sheet_name=sheet_name)\n",
        "    return df\n",
        "\n",
        "def preprocess_data(df):\n",
        "    \"\"\"Convert price to numeric and classify data into two classes based on median price.\"\"\"\n",
        "    df[\"Price\"] = pd.to_numeric(df[\"Price\"], errors=\"coerce\")\n",
        "    df[\"Open\"] = pd.to_numeric(df[\"Open\"], errors=\"coerce\")\n",
        "    median_price = df[\"Price\"].median()\n",
        "    df[\"Class\"] = np.where(df[\"Price\"] >= median_price, 1, 0)\n",
        "    return df.dropna()\n",
        "\n",
        "def split_data(df, features):\n",
        "    \"\"\"Split data into training and testing sets.\"\"\"\n",
        "    X = df[features]\n",
        "    y = df[\"Class\"]\n",
        "    return train_test_split(X, y, test_size=0.3, random_state=42)\n",
        "\n",
        "def train_knn_classifier(X_train, y_train, k=3):\n",
        "    \"\"\"Train a k-NN classifier with k=3.\"\"\"\n",
        "    scaler = StandardScaler()\n",
        "    X_train_scaled = scaler.fit_transform(X_train)\n",
        "    knn = KNeighborsClassifier(n_neighbors=k)\n",
        "    knn.fit(X_train_scaled, y_train)\n",
        "    return knn, scaler\n",
        "\n",
        "def evaluate_model(knn, scaler, X_test, y_test):\n",
        "    \"\"\"Evaluate the trained k-NN classifier on the test set.\"\"\"\n",
        "    X_test_scaled = scaler.transform(X_test)\n",
        "    accuracy = knn.score(X_test_scaled, y_test)\n",
        "    return accuracy\n",
        "\n",
        "def main():\n",
        "    \"\"\"Main function to execute the k-NN classification process.\"\"\"\n",
        "    file_path = \"Lab Session Data.xlsx\"\n",
        "    sheet_name = \"IRCTC Stock Price\"\n",
        "    df = load_dataset(file_path, sheet_name)\n",
        "    df = preprocess_data(df)\n",
        "    features = [\"Price\", \"Open\"]\n",
        "    X_train, X_test, y_train, y_test = split_data(df, features)\n",
        "    knn, scaler = train_knn_classifier(X_train, y_train, k=3)\n",
        "    accuracy = evaluate_model(knn, scaler, X_test, y_test)\n",
        "    print(f\"Accuracy of k-NN Classifier (k=3): {accuracy:.2f}\")\n",
        "\n",
        "if __name__ == \"__main__\":\n",
        "    main()\n"
      ],
      "metadata": {
        "colab": {
          "base_uri": "https://localhost:8080/"
        },
        "id": "0oxVUmFr0cVp",
        "outputId": "5f6b31fe-2f78-4a0c-84e0-212f1a10b903"
      },
      "execution_count": 12,
      "outputs": [
        {
          "output_type": "stream",
          "name": "stdout",
          "text": [
            "Accuracy of k-NN Classifier (k=3): 0.99\n"
          ]
        }
      ]
    },
    {
      "cell_type": "markdown",
      "source": [
        "A7"
      ],
      "metadata": {
        "id": "Kgty8YGx0sOx"
      }
    },
    {
      "cell_type": "code",
      "source": [
        "import pandas as pd\n",
        "import numpy as np\n",
        "from sklearn.model_selection import train_test_split\n",
        "from sklearn.neighbors import KNeighborsClassifier\n",
        "from sklearn.preprocessing import StandardScaler\n",
        "from sklearn.metrics import accuracy_score\n",
        "\n",
        "def load_dataset(file_path, sheet_name):\n",
        "    \"\"\"Load the IRCTC stock price dataset from the given sheet.\"\"\"\n",
        "    xls = pd.ExcelFile(file_path)\n",
        "    df = pd.read_excel(xls, sheet_name=sheet_name)\n",
        "    return df\n",
        "\n",
        "def preprocess_data(df):\n",
        "    \"\"\"Convert price to numeric and classify data into two classes based on median price.\"\"\"\n",
        "    df[\"Price\"] = pd.to_numeric(df[\"Price\"], errors=\"coerce\")\n",
        "    df[\"Open\"] = pd.to_numeric(df[\"Open\"], errors=\"coerce\")\n",
        "    median_price = df[\"Price\"].median()\n",
        "    df[\"Class\"] = np.where(df[\"Price\"] >= median_price, 1, 0)\n",
        "    return df.dropna()\n",
        "\n",
        "def split_data(df, features):\n",
        "    \"\"\"Split data into training and testing sets.\"\"\"\n",
        "    X = df[features]\n",
        "    y = df[\"Class\"]\n",
        "    return train_test_split(X, y, test_size=0.3, random_state=42)\n",
        "\n",
        "def train_knn_classifier(X_train, y_train, k=3):\n",
        "    \"\"\"Train a k-NN classifier with k=3.\"\"\"\n",
        "    scaler = StandardScaler()\n",
        "    X_train_scaled = scaler.fit_transform(X_train)\n",
        "    knn = KNeighborsClassifier(n_neighbors=k)\n",
        "    knn.fit(X_train_scaled, y_train)\n",
        "    return knn, scaler\n",
        "\n",
        "def evaluate_model(knn, scaler, X_test, y_test):\n",
        "    \"\"\"Evaluate the trained k-NN classifier on the test set.\"\"\"\n",
        "    X_test_scaled = scaler.transform(X_test)\n",
        "    accuracy = knn.score(X_test_scaled, y_test)\n",
        "    return accuracy\n",
        "\n",
        "def predict_test_samples(knn, scaler, X_test):\n",
        "    \"\"\"Predict the class labels for test samples.\"\"\"\n",
        "    X_test_scaled = scaler.transform(X_test)\n",
        "    predictions = knn.predict(X_test_scaled)\n",
        "    return predictions\n",
        "\n",
        "def main():\n",
        "    \"\"\"Main function to execute the k-NN classification process.\"\"\"\n",
        "    file_path = \"Lab Session Data.xlsx\"\n",
        "    sheet_name = \"IRCTC Stock Price\"\n",
        "    df = load_dataset(file_path, sheet_name)\n",
        "    df = preprocess_data(df)\n",
        "    features = [\"Price\", \"Open\"]\n",
        "    X_train, X_test, y_train, y_test = split_data(df, features)\n",
        "    knn, scaler = train_knn_classifier(X_train, y_train, k=3)\n",
        "    accuracy = evaluate_model(knn, scaler, X_test, y_test)\n",
        "    predictions = predict_test_samples(knn, scaler, X_test)\n",
        "    print(f\"Accuracy of k-NN Classifier (k=3): {accuracy:.2f}\")\n",
        "    print(\"Predictions for test samples:\", predictions)\n",
        "\n",
        "if __name__ == \"__main__\":\n",
        "    main()\n"
      ],
      "metadata": {
        "colab": {
          "base_uri": "https://localhost:8080/"
        },
        "id": "qIx0tAh00tKp",
        "outputId": "3974efd7-6c94-49ac-d456-b912041a4083"
      },
      "execution_count": 13,
      "outputs": [
        {
          "output_type": "stream",
          "name": "stdout",
          "text": [
            "Accuracy of k-NN Classifier (k=3): 0.99\n",
            "Predictions for test samples: [1 1 1 1 1 0 0 0 1 0 0 0 0 0 1 0 0 1 0 1 0 1 1 1 0 1 1 1 1 0 0 1 0 0 1 1 1\n",
            " 0 0 0 1 1 1 0 0 1 0 1 0 1 1 0 0 1 1 1 0 0 0 0 0 0 1 1 0 0 0 0 0 0 1 0 1 1\n",
            " 0]\n"
          ]
        }
      ]
    },
    {
      "cell_type": "markdown",
      "source": [
        "A8"
      ],
      "metadata": {
        "id": "_zF61geB2lG-"
      }
    },
    {
      "cell_type": "code",
      "source": [
        "import pandas as pd\n",
        "import numpy as np\n",
        "import matplotlib.pyplot as plt\n",
        "from sklearn.model_selection import train_test_split\n",
        "from sklearn.neighbors import KNeighborsClassifier\n",
        "from sklearn.preprocessing import StandardScaler\n",
        "from sklearn.metrics import accuracy_score\n",
        "\n",
        "def load_dataset(file_path, sheet_name):\n",
        "    \"\"\"Load the IRCTC stock price dataset from the given sheet.\"\"\"\n",
        "    xls = pd.ExcelFile(file_path)\n",
        "    df = pd.read_excel(xls, sheet_name=sheet_name)\n",
        "    return df\n",
        "\n",
        "def preprocess_data(df):\n",
        "    \"\"\"Convert price to numeric and classify data into two classes based on median price.\"\"\"\n",
        "    df[\"Price\"] = pd.to_numeric(df[\"Price\"], errors=\"coerce\")\n",
        "    df[\"Open\"] = pd.to_numeric(df[\"Open\"], errors=\"coerce\")\n",
        "    median_price = df[\"Price\"].median()\n",
        "    df[\"Class\"] = np.where(df[\"Price\"] >= median_price, 1, 0)\n",
        "    return df.dropna()\n",
        "\n",
        "def split_data(df, features):\n",
        "    \"\"\"Split data into training and testing sets.\"\"\"\n",
        "    X = df[features]\n",
        "    y = df[\"Class\"]\n",
        "    return train_test_split(X, y, test_size=0.3, random_state=42)\n",
        "\n",
        "def train_knn_classifier(X_train, y_train, k):\n",
        "    \"\"\"Train a k-NN classifier with a given k value.\"\"\"\n",
        "    scaler = StandardScaler()\n",
        "    X_train_scaled = scaler.fit_transform(X_train)\n",
        "    knn = KNeighborsClassifier(n_neighbors=k)\n",
        "    knn.fit(X_train_scaled, y_train)\n",
        "    return knn, scaler\n",
        "\n",
        "def evaluate_model(knn, scaler, X_test, y_test):\n",
        "    \"\"\"Evaluate the trained k-NN classifier on the test set.\"\"\"\n",
        "    X_test_scaled = scaler.transform(X_test)\n",
        "    accuracy = knn.score(X_test_scaled, y_test)\n",
        "    return accuracy\n",
        "\n",
        "def plot_accuracy_vs_k(X_train, X_test, y_train, y_test):\n",
        "    \"\"\"Vary k from 1 to 11 and plot the accuracy values.\"\"\"\n",
        "    k_values = list(range(1, 12))\n",
        "    accuracies = []\n",
        "\n",
        "    for k in k_values:\n",
        "        knn, scaler = train_knn_classifier(X_train, y_train, k)\n",
        "        accuracy = evaluate_model(knn, scaler, X_test, y_test)\n",
        "        accuracies.append(accuracy)\n",
        "\n",
        "    plt.figure(figsize=(8, 5))\n",
        "    plt.plot(k_values, accuracies, marker='o', linestyle='-', color='b')\n",
        "    plt.xlabel('k value')\n",
        "    plt.ylabel('Accuracy')\n",
        "    plt.title('Accuracy vs k in k-NN Classifier')\n",
        "    plt.grid(True)\n",
        "    plt.show()\n",
        "\n",
        "def main():\n",
        "    \"\"\"Main function to execute the k-NN classification and accuracy plot.\"\"\"\n",
        "    file_path = \"Lab Session Data.xlsx\"\n",
        "    sheet_name = \"IRCTC Stock Price\"\n",
        "    df = load_dataset(file_path, sheet_name)\n",
        "    df = preprocess_data(df)\n",
        "    features = [\"Price\", \"Open\"]\n",
        "    X_train, X_test, y_train, y_test = split_data(df, features)\n",
        "\n",
        "    # Train with k=1 (NN classifier) and compare with k=3\n",
        "    knn1, scaler1 = train_knn_classifier(X_train, y_train, k=1)\n",
        "    accuracy1 = evaluate_model(knn1, scaler1, X_test, y_test)\n",
        "    knn3, scaler3 = train_knn_classifier(X_train, y_train, k=3)\n",
        "    accuracy3 = evaluate_model(knn3, scaler3, X_test, y_test)\n",
        "\n",
        "    print(f\"Accuracy of NN Classifier (k=1): {accuracy1:.2f}\")\n",
        "    print(f\"Accuracy of k-NN Classifier (k=3): {accuracy3:.2f}\")\n",
        "\n",
        "    # Generate accuracy plot for k values from 1 to 11\n",
        "    plot_accuracy_vs_k(X_train, X_test, y_train, y_test)\n",
        "\n",
        "if __name__ == \"__main__\":\n",
        "    main()\n"
      ],
      "metadata": {
        "colab": {
          "base_uri": "https://localhost:8080/",
          "height": 520
        },
        "id": "xZIYhGsx2mF-",
        "outputId": "d35eadb5-8cdf-41e9-81c4-5e2e87d4e36d"
      },
      "execution_count": 14,
      "outputs": [
        {
          "output_type": "stream",
          "name": "stdout",
          "text": [
            "Accuracy of NN Classifier (k=1): 0.99\n",
            "Accuracy of k-NN Classifier (k=3): 0.99\n"
          ]
        },
        {
          "output_type": "display_data",
          "data": {
            "text/plain": [
              "<Figure size 800x500 with 1 Axes>"
            ],
            "image/png": "[encoded data removed]"
          },
          "metadata": {}
        }
      ]
    },
    {
      "cell_type": "markdown",
      "source": [
        "A9"
      ],
      "metadata": {
        "id": "sz55zo1V2pFp"
      }
    },
    {
      "cell_type": "code",
      "source": [
        "import pandas as pd\n",
        "import numpy as np\n",
        "import matplotlib.pyplot as plt\n",
        "import seaborn as sns\n",
        "from sklearn.model_selection import train_test_split\n",
        "from sklearn.neighbors import KNeighborsClassifier\n",
        "from sklearn.preprocessing import StandardScaler\n",
        "from sklearn.metrics import confusion_matrix, classification_report\n",
        "\n",
        "def load_dataset(file_path, sheet_name):\n",
        "    \"\"\"Load the IRCTC stock price dataset from the given sheet.\"\"\"\n",
        "    xls = pd.ExcelFile(file_path)\n",
        "    df = pd.read_excel(xls, sheet_name=sheet_name)\n",
        "    return df\n",
        "\n",
        "def preprocess_data(df):\n",
        "    \"\"\"Convert price to numeric and classify data into two classes based on median price.\"\"\"\n",
        "    df[\"Price\"] = pd.to_numeric(df[\"Price\"], errors=\"coerce\")\n",
        "    df[\"Open\"] = pd.to_numeric(df[\"Open\"], errors=\"coerce\")\n",
        "    median_price = df[\"Price\"].median()\n",
        "    df[\"Class\"] = np.where(df[\"Price\"] >= median_price, 1, 0)\n",
        "    return df.dropna()\n",
        "\n",
        "def split_data(df, features):\n",
        "    \"\"\"Split data into training and testing sets.\"\"\"\n",
        "    X = df[features]\n",
        "    y = df[\"Class\"]\n",
        "    return train_test_split(X, y, test_size=0.3, random_state=42)\n",
        "\n",
        "def train_knn_classifier(X_train, y_train, k=3):\n",
        "    \"\"\"Train a k-NN classifier with a given k value.\"\"\"\n",
        "    scaler = StandardScaler()\n",
        "    X_train_scaled = scaler.fit_transform(X_train)\n",
        "    knn = KNeighborsClassifier(n_neighbors=k)\n",
        "    knn.fit(X_train_scaled, y_train)\n",
        "    return knn, scaler\n",
        "\n",
        "def evaluate_model(knn, scaler, X_test, y_test):\n",
        "    \"\"\"Evaluate the trained k-NN classifier on the test set.\"\"\"\n",
        "    X_test_scaled = scaler.transform(X_test)\n",
        "    y_pred = knn.predict(X_test_scaled)\n",
        "    cm = confusion_matrix(y_test, y_pred)\n",
        "    report = classification_report(y_test, y_pred, output_dict=True)\n",
        "\n",
        "    return cm, report\n",
        "\n",
        "def plot_confusion_matrix(cm):\n",
        "    \"\"\"Plot confusion matrix using heatmap.\"\"\"\n",
        "    plt.figure(figsize=(6, 5))\n",
        "    sns.heatmap(cm, annot=True, fmt='d', cmap='Blues', xticklabels=[\"Low\", \"High\"], yticklabels=[\"Low\", \"High\"])\n",
        "    plt.xlabel('Predicted')\n",
        "    plt.ylabel('Actual')\n",
        "    plt.title('Confusion Matrix')\n",
        "    plt.show()\n",
        "\n",
        "def main():\n",
        "    \"\"\"Main function to execute the k-NN classification and evaluate performance metrics.\"\"\"\n",
        "    file_path = \"Lab Session Data.xlsx\"\n",
        "    sheet_name = \"IRCTC Stock Price\"\n",
        "    df = load_dataset(file_path, sheet_name)\n",
        "    df = preprocess_data(df)\n",
        "    features = [\"Price\", \"Open\"]\n",
        "    X_train, X_test, y_train, y_test = split_data(df, features)\n",
        "\n",
        "    knn, scaler = train_knn_classifier(X_train, y_train, k=3)\n",
        "    cm, report = evaluate_model(knn, scaler, X_test, y_test)\n",
        "    plot_confusion_matrix(cm)\n",
        "\n",
        "    print(\"Confusion Matrix:\")\n",
        "    print(cm)\n",
        "    print(\"\\nClassification Report:\")\n",
        "    print(pd.DataFrame(report).transpose())\n",
        "\n",
        "if __name__ == \"__main__\":\n",
        "    main()\n"
      ],
      "metadata": {
        "colab": {
          "base_uri": "https://localhost:8080/",
          "height": 668
        },
        "id": "f4QKEHJ42p5r",
        "outputId": "62d6b23a-9c93-4b21-90ba-3d6d76cb9b70"
      },
      "execution_count": 15,
      "outputs": [
        {
          "output_type": "display_data",
          "data": {
            "text/plain": [
              "<Figure size 600x500 with 2 Axes>"
            ],
            "image/png": "[encoded data removed]"
          },
          "metadata": {}
        },
        {
          "output_type": "stream",
          "name": "stdout",
          "text": [
            "Confusion Matrix:\n",
            "[[39  0]\n",
            " [ 1 35]]\n",
            "\n",
            "Classification Report:\n",
            "              precision    recall  f1-score    support\n",
            "0              0.975000  1.000000  0.987342  39.000000\n",
            "1              1.000000  0.972222  0.985915  36.000000\n",
            "accuracy       0.986667  0.986667  0.986667   0.986667\n",
            "macro avg      0.987500  0.986111  0.986629  75.000000\n",
            "weighted avg   0.987000  0.986667  0.986657  75.000000\n"
          ]
        }
      ]
    }
  ]
}