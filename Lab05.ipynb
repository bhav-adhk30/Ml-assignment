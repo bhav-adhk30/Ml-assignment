{
  "cells": [
    {
      "cell_type": "code",
      "source": [
        "import numpy as np\n",
        "import pandas as pd\n",
        "from sklearn.linear_model import LinearRegression\n",
        "from sklearn.model_selection import train_test_split\n",
        "\n",
        "# Load and merge Excel files (adjust file paths as needed)\n",
        "all_data = []\n",
        "file_paths = ['255_s.xlsx', '259_s.xlsx', '261_s.xlsx', '285_s.xlsx', '287_s.xlsx',\n",
        "              '219_student.xlsx', '220_student.xlsx', '221_student.xlsx', '222_student.xlsx', '223_student.xlsx']\n",
        "for file in file_paths:\n",
        "    df = pd.read_excel(file)\n",
        "    df[\"Source_File\"] = file\n",
        "    all_data.append(df)\n",
        "df_combined = pd.concat(all_data, ignore_index=True)\n",
        "df_combined.columns = df_combined.columns.str.strip()\n",
        "\n",
        "# Create \"Label\" column\n",
        "if \"Label\" not in df_combined.columns:\n",
        "    df_combined[\"Label\"] = df_combined[\"Member\"].apply(lambda x: 1 if x == \"Student\" else 0)\n",
        "\n",
        "# Select numerical column\n",
        "X = df_combined[[\"Start time\"]].values\n",
        "y = df_combined[\"Label\"].values\n",
        "\n",
        "# Split data\n",
        "X_train, X_test, y_train, y_test = train_test_split(X, y, test_size=0.2, random_state=42)\n",
        "\n",
        "# Train Linear Regression model\n",
        "model_one_feature = LinearRegression().fit(X_train, y_train)\n",
        "\n",
        "# Output\n",
        "print(\"\\n✅ Model Coefficient:\", model_one_feature.coef_)\n",
        "print(\"✅ Model Intercept:\", model_one_feature.intercept_)\n",
        "\n"
      ],
      "metadata": {
        "id": "rqWAOJ_Skbec",
        "outputId": "fd5f9f28-7631-4410-99de-4b4def02aee4",
        "colab": {
          "base_uri": "https://localhost:8080/"
        }
      },
      "execution_count": 7,
      "outputs": [
        {
          "output_type": "stream",
          "name": "stdout",
          "text": [
            "\n",
            "✅ Model Coefficient: [-0.00040665]\n",
            "✅ Model Intercept: 0.6155893715071148\n"
          ]
        }
      ]
    },
    {
      "cell_type": "code",
      "source": [
        "from sklearn.metrics import mean_squared_error, mean_absolute_percentage_error, r2_score\n",
        "import numpy as np\n",
        "\n",
        "# Predictions\n",
        "y_train_pred = model_one_feature.predict(X_train)\n",
        "y_test_pred = model_one_feature.predict(X_test)\n",
        "\n",
        "# Compute metrics\n",
        "def compute_metrics(y_true, y_pred):\n",
        "    return {\n",
        "        \"MSE\": mean_squared_error(y_true, y_pred),\n",
        "        \"RMSE\": np.sqrt(mean_squared_error(y_true, y_pred)),\n",
        "        \"MAPE\": mean_absolute_percentage_error(y_true, y_pred),\n",
        "        \"R2 Score\": r2_score(y_true, y_pred)\n",
        "    }\n",
        "\n",
        "print(\"\\n📊 Train Set Metrics:\", compute_metrics(y_train, y_train_pred))\n",
        "print(\"📊 Test Set Metrics:\", compute_metrics(y_test, y_test_pred))"
      ],
      "metadata": {
        "id": "5JXaezQ8kyLU",
        "outputId": "443ad50a-99a9-467b-c0bb-3152149da18b",
        "colab": {
          "base_uri": "https://localhost:8080/"
        }
      },
      "execution_count": 8,
      "outputs": [
        {
          "output_type": "stream",
          "name": "stdout",
          "text": [
            "\n",
            "📊 Train Set Metrics: {'MSE': 0.24237441289136358, 'RMSE': 0.4923153591869378, 'MAPE': 1091557315581687.9, 'R2 Score': 0.03044127771633709}\n",
            "📊 Test Set Metrics: {'MSE': 0.26216286846857784, 'RMSE': 0.5120184259072889, 'MAPE': 1206427194247857.8, 'R2 Score': -0.04967654862883175}\n"
          ]
        }
      ]
    },
    {
      "cell_type": "code",
      "source": [
        "numerical_columns = [\"Start time\", \"End time\"]\n",
        "X = df_combined[numerical_columns].values\n",
        "\n",
        "y = df_combined[\"Label\"].values\n",
        "X_train, X_test, y_train, y_test = train_test_split(X, y, test_size=0.2, random_state=42)\n",
        "\n",
        "# Train model\n",
        "model_all_features = LinearRegression().fit(X_train, y_train)\n",
        "\n",
        "# Predictions\n",
        "y_train_pred = model_all_features.predict(X_train)\n",
        "y_test_pred = model_all_features.predict(X_test)\n",
        "\n",
        "# Output metrics\n",
        "print(\"\\n📊 Train Set Metrics (All Features):\", compute_metrics(y_train, y_train_pred))\n",
        "print(\"📊 Test Set Metrics (All Features):\", compute_metrics(y_test, y_test_pred))"
      ],
      "metadata": {
        "id": "1GbargANk3VE",
        "outputId": "a4bc8156-b335-4c83-fbb6-063cdbaaa115",
        "colab": {
          "base_uri": "https://localhost:8080/"
        }
      },
      "execution_count": 9,
      "outputs": [
        {
          "output_type": "stream",
          "name": "stdout",
          "text": [
            "\n",
            "📊 Train Set Metrics (All Features): {'MSE': 0.23573619965113382, 'RMSE': 0.48552672393096324, 'MAPE': 1061661460906584.6, 'R2 Score': 0.05699580329791509}\n",
            "📊 Test Set Metrics (All Features): {'MSE': 0.25025259322915927, 'RMSE': 0.5002525294580321, 'MAPE': 1196468941987669.5, 'R2 Score': -0.001988877679996559}\n"
          ]
        }
      ]
    },
    {
      "cell_type": "code",
      "source": [
        "from sklearn.cluster import KMeans\n",
        "\n",
        "# Perform K-Means\n",
        "kmeans = KMeans(n_clusters=2, random_state=42, n_init=\"auto\").fit(X_train)\n",
        "\n",
        "# Output\n",
        "print(\"\\n✅ K-Means Labels:\", kmeans.labels_)\n",
        "print(\"✅ K-Means Centers:\\n\", kmeans.cluster_centers_)"
      ],
      "metadata": {
        "id": "vGK2ovqnk879",
        "outputId": "6b51fe55-4524-4626-da47-12239d8a751f",
        "colab": {
          "base_uri": "https://localhost:8080/"
        }
      },
      "execution_count": 10,
      "outputs": [
        {
          "output_type": "stream",
          "name": "stdout",
          "text": [
            "\n",
            "✅ K-Means Labels: [1 0 1 0 1 0 0 1 1 1 1 1 1 1 0 0 1 0 1 0 0 0 1 1 0 1 1 1 0 0 1 1 0 1 1 1 0\n",
            " 1 0 1 1 1 1 0 1 1 1 1 1 1 0 1 1 1 0 1 1 0 1 1 0 1 0 1 1 1 1 1 1 1 1 0 1 1\n",
            " 1 1 0 1 1 1 1 0 0 1 1 1 0 1 1 0 0 1 1 1 0 1 1 1 1 1 1 1 1 1 0 1 1 1 1 1 1\n",
            " 0 1 1 1 0 1 1 1 1 1 1 1 1 0 1 1 1 1 1 1 0 1 1 0 1 1 1 1 1 1 1 1 0 1 1 1 0\n",
            " 0 0 1 1 1 0 1 1 1 0 1 1 1 1 1 1 0 1 0 1 1 1 0 1 0 1 0 0 1 0 1 0 1 1 1 0 1\n",
            " 1 1 1 1 1 1 1 1 1 0 1 1 1 1 1 1 0 0 1 0 1 1 1 1 1 0 1 0 1 1 1 1 0 1 0 0 0\n",
            " 0 1 1 0 1 1 0 0 1 1 0 1 1 1 0 1 0 1 0 1 1 1 1 0 0 1 0 0 0 0]\n",
            "✅ K-Means Centers:\n",
            " [[556.91005626 573.40458824]\n",
            " [182.60651466 193.87243256]]\n"
          ]
        }
      ]
    },
    {
      "cell_type": "code",
      "source": [
        "from sklearn.metrics import silhouette_score, calinski_harabasz_score, davies_bouldin_score\n",
        "\n",
        "# Compute metrics\n",
        "silhouette = silhouette_score(X_train, kmeans.labels_)\n",
        "ch_score = calinski_harabasz_score(X_train, kmeans.labels_)\n",
        "db_index = davies_bouldin_score(X_train, kmeans.labels_)\n",
        "\n",
        "# Output\n",
        "print(\"\\n📊 Silhouette Score:\", silhouette)\n",
        "print(\"📊 Calinski-Harabasz Score:\", ch_score)\n",
        "print(\"📊 Davies-Bouldin Index:\", db_index)"
      ],
      "metadata": {
        "id": "T-jfNHBZlCVh",
        "outputId": "992b6cb1-b18c-432a-e2e3-1765a1cc3d7e",
        "colab": {
          "base_uri": "https://localhost:8080/"
        }
      },
      "execution_count": 11,
      "outputs": [
        {
          "output_type": "stream",
          "name": "stdout",
          "text": [
            "\n",
            "📊 Silhouette Score: 0.5667059132367658\n",
            "📊 Calinski-Harabasz Score: 440.86230198472805\n",
            "📊 Davies-Bouldin Index: 0.6287722177322452\n"
          ]
        }
      ]
    },
    {
      "cell_type": "code",
      "source": [
        "import matplotlib.pyplot as plt\n",
        "\n",
        "# K-Means for different k\n",
        "distortions = []\n",
        "for k in range(2, 10):\n",
        "    kmeans = KMeans(n_clusters=k, random_state=42, n_init=\"auto\").fit(X_train)\n",
        "    distortions.append(kmeans.inertia_)\n",
        "\n",
        "# Plot\n",
        "plt.plot(range(2, 10), distortions, marker='o')\n",
        "plt.xlabel('Number of Clusters (k)')\n",
        "plt.ylabel('Inertia')\n",
        "plt.title('📊 Elbow Method for Optimal K')\n",
        "plt.show()"
      ],
      "metadata": {
        "id": "3KzkR99rlFZe",
        "outputId": "21b5b0a0-437d-4057-e4b5-5934b5db8753",
        "colab": {
          "base_uri": "https://localhost:8080/",
          "height": 527
        }
      },
      "execution_count": 12,
      "outputs": [
        {
          "output_type": "stream",
          "name": "stderr",
          "text": [
            "/usr/local/lib/python3.11/dist-packages/IPython/core/pylabtools.py:151: UserWarning: Glyph 128202 (\\N{BAR CHART}) missing from font(s) DejaVu Sans.\n",
            "  fig.canvas.print_figure(bytes_io, **kw)\n"
          ]
        },
        {
          "output_type": "display_data",
          "data": {
            "text/plain": [
              "<Figure size 640x480 with 1 Axes>"
            ],
            "image/png": "[encoded data removed]"
          },
          "metadata": {}
        }
      ]
    }
  ],
  "metadata": {
    "colab": {
      "name": "Welcome to Colaboratory",
      "provenance": []
    },
    "kernelspec": {
      "display_name": "Python 3",
      "name": "python3"
    }
  },
  "nbformat": 4,
  "nbformat_minor": 0
}